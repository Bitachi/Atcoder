{
 "cells": [
  {
   "cell_type": "code",
   "execution_count": 6,
   "metadata": {},
   "outputs": [
    {
     "name": "stdout",
     "output_type": "stream",
     "text": [
      "22 22 1\n"
     ]
    }
   ],
   "source": [
    "i = 22\n",
    "l = str(i)\n",
    "n = len(l)\n",
    "flag = 0\n",
    "ans = 0\n",
    "cnt = 0\n",
    "for j in range(0, n-1):\n",
    "    if abs(int(l[j+1]) - int(l[j])) > 1:\n",
    "        flag += 1\n",
    "        break\n",
    "    if flag == 0:\n",
    "        ans = i\n",
    "        cnt += 1\n",
    "        print(i, ans, cnt)\n"
   ]
  },
  {
   "cell_type": "code",
   "execution_count": 16,
   "metadata": {},
   "outputs": [
    {
     "name": "stdout",
     "output_type": "stream",
     "text": [
      "15\n",
      "25\n"
     ]
    }
   ],
   "source": [
    "N = int(input())\n",
    "ans = 0\n",
    "flag = 0\n",
    "cnt = 0\n",
    "if N <= 9:\n",
    "    print(N)\n",
    "else:\n",
    "        \n",
    "    for i in range(10, 100):\n",
    "        l = str(i)\n",
    "        n = len(l)\n",
    "        flag = 0\n",
    "        #print(i)\n",
    "        for j in range(0, n-1):\n",
    "            if abs(int(l[j+1]) - int(l[j])) > 1:\n",
    "                flag = 1\n",
    "               # print(i)\n",
    "                break\n",
    "            if flag == 0:\n",
    "                ans = cnt\n",
    "                cnt += 1\n",
    "                #print(i, ans, cnt)\n",
    "        if cnt == N:\n",
    "            print(cnt + 10)\n",
    "            break"
   ]
  },
  {
   "cell_type": "code",
   "execution_count": null,
   "metadata": {},
   "outputs": [],
   "source": []
  }
 ],
 "metadata": {
  "kernelspec": {
   "display_name": "Python 3",
   "language": "python",
   "name": "python3"
  },
  "language_info": {
   "codemirror_mode": {
    "name": "ipython",
    "version": 3
   },
   "file_extension": ".py",
   "mimetype": "text/x-python",
   "name": "python",
   "nbconvert_exporter": "python",
   "pygments_lexer": "ipython3",
   "version": "3.7.3"
  }
 },
 "nbformat": 4,
 "nbformat_minor": 2
}
