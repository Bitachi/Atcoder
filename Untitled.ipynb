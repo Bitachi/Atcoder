{
 "cells": [
  {
   "cell_type": "code",
   "execution_count": 6,
   "metadata": {},
   "outputs": [
    {
     "name": "stdout",
     "output_type": "stream",
     "text": [
      "22 22 1\n"
     ]
    }
   ],
   "source": [
    "i = 22\n",
    "l = str(i)\n",
    "n = len(l)\n",
    "flag = 0\n",
    "ans = 0\n",
    "cnt = 0\n",
    "for j in range(0, n-1):\n",
    "    if abs(int(l[j+1]) - int(l[j])) > 1:\n",
    "        flag += 1\n",
    "        break\n",
    "    if flag == 0:\n",
    "        ans = i\n",
    "        cnt += 1\n",
    "        print(i, ans, cnt)\n"
   ]
  },
  {
   "cell_type": "code",
   "execution_count": 28,
   "metadata": {},
   "outputs": [
    {
     "name": "stdout",
     "output_type": "stream",
     "text": [
      "99999\n"
     ]
    },
    {
     "ename": "KeyboardInterrupt",
     "evalue": "",
     "output_type": "error",
     "traceback": [
      "\u001b[0;31m---------------------------------------------------------------------------\u001b[0m",
      "\u001b[0;31mKeyboardInterrupt\u001b[0m                         Traceback (most recent call last)",
      "\u001b[0;32m<ipython-input-28-0e38890cac71>\u001b[0m in \u001b[0;36m<module>\u001b[0;34m\u001b[0m\n\u001b[1;32m     13\u001b[0m         \u001b[0;31m#print(i)\u001b[0m\u001b[0;34m\u001b[0m\u001b[0;34m\u001b[0m\u001b[0;34m\u001b[0m\u001b[0m\n\u001b[1;32m     14\u001b[0m         \u001b[0;32mfor\u001b[0m \u001b[0mj\u001b[0m \u001b[0;32min\u001b[0m \u001b[0mrange\u001b[0m\u001b[0;34m(\u001b[0m\u001b[0;36m0\u001b[0m\u001b[0;34m,\u001b[0m \u001b[0mn\u001b[0m\u001b[0;34m-\u001b[0m\u001b[0;36m1\u001b[0m\u001b[0;34m)\u001b[0m\u001b[0;34m:\u001b[0m\u001b[0;34m\u001b[0m\u001b[0;34m\u001b[0m\u001b[0m\n\u001b[0;32m---> 15\u001b[0;31m             \u001b[0;32mif\u001b[0m \u001b[0mabs\u001b[0m\u001b[0;34m(\u001b[0m\u001b[0mint\u001b[0m\u001b[0;34m(\u001b[0m\u001b[0ml\u001b[0m\u001b[0;34m[\u001b[0m\u001b[0mj\u001b[0m\u001b[0;34m+\u001b[0m\u001b[0;36m1\u001b[0m\u001b[0;34m]\u001b[0m\u001b[0;34m)\u001b[0m \u001b[0;34m-\u001b[0m \u001b[0mint\u001b[0m\u001b[0;34m(\u001b[0m\u001b[0ml\u001b[0m\u001b[0;34m[\u001b[0m\u001b[0mj\u001b[0m\u001b[0;34m]\u001b[0m\u001b[0;34m)\u001b[0m\u001b[0;34m)\u001b[0m \u001b[0;34m>\u001b[0m \u001b[0;36m1\u001b[0m\u001b[0;34m:\u001b[0m\u001b[0;34m\u001b[0m\u001b[0;34m\u001b[0m\u001b[0m\n\u001b[0m\u001b[1;32m     16\u001b[0m                 \u001b[0mflag\u001b[0m \u001b[0;34m=\u001b[0m \u001b[0;36m1\u001b[0m\u001b[0;34m\u001b[0m\u001b[0;34m\u001b[0m\u001b[0m\n\u001b[1;32m     17\u001b[0m                \u001b[0;31m# print(i)\u001b[0m\u001b[0;34m\u001b[0m\u001b[0;34m\u001b[0m\u001b[0;34m\u001b[0m\u001b[0m\n",
      "\u001b[0;31mKeyboardInterrupt\u001b[0m: "
     ]
    }
   ],
   "source": [
    "N = int(input())\n",
    "ans = 0\n",
    "flag = 0\n",
    "cnt = 0\n",
    "if N <= 9:\n",
    "    print(N)\n",
    "else:\n",
    "        \n",
    "    for i in range(10, 3234566667 + 1):\n",
    "        l = str(i)\n",
    "        n = len(l)\n",
    "        flag = 0\n",
    "        #print(i)\n",
    "        for j in range(0, n-1):\n",
    "            if abs(int(l[j+1]) - int(l[j])) > 1:\n",
    "                flag = 1\n",
    "               # print(i)\n",
    "                break\n",
    "            if flag == 0:\n",
    "                ans = i\n",
    "                cnt += 1\n",
    "                #print(i, ans, cnt)\n",
    "        if (cnt + 9) == N:\n",
    "            print(ans)\n",
    "            break"
   ]
  },
  {
   "cell_type": "code",
   "execution_count": 29,
   "metadata": {},
   "outputs": [
    {
     "name": "stdout",
     "output_type": "stream",
     "text": [
      "4444\n",
      "10243\n"
     ]
    }
   ],
   "source": [
    "N = int(input())\n",
    "ans = 0\n",
    "flag = 0\n",
    "cnt = 0\n",
    "if N <= 9:\n",
    "    print(N)\n",
    "else:\n",
    "        \n",
    "    for i in range(10, 3234566667 + 1):\n",
    "        l = str(i)\n",
    "        n = len(l)\n",
    "        flag = 0\n",
    "        #print(i)\n",
    "        for j in range(0, n-1):\n",
    "            if abs(int(l[j+1]) - int(l[j])) > 1:\n",
    "                flag = 1\n",
    "               # print(i)\n",
    "                break\n",
    "            if flag == 0:\n",
    "                ans = i\n",
    "                cnt += 1\n",
    "                #print(i, ans, cnt)\n",
    "        if (cnt + 9) == N:\n",
    "            print(ans)\n",
    "            break"
   ]
  },
  {
   "cell_type": "code",
   "execution_count": null,
   "metadata": {},
   "outputs": [],
   "source": []
  }
 ],
 "metadata": {
  "kernelspec": {
   "display_name": "Python 3",
   "language": "python",
   "name": "python3"
  },
  "language_info": {
   "codemirror_mode": {
    "name": "ipython",
    "version": 3
   },
   "file_extension": ".py",
   "mimetype": "text/x-python",
   "name": "python",
   "nbconvert_exporter": "python",
   "pygments_lexer": "ipython3",
   "version": "3.7.3"
  }
 },
 "nbformat": 4,
 "nbformat_minor": 2
}
